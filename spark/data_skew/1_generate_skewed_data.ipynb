{
 "cells": [
  {
   "cell_type": "markdown",
   "id": "5718a654",
   "metadata": {},
   "source": [
    "# Generate Skewed Data "
   ]
  },
  {
   "cell_type": "markdown",
   "id": "53a2a187",
   "metadata": {},
   "source": [
    "## Import Modules"
   ]
  },
  {
   "cell_type": "code",
   "execution_count": 1,
   "id": "1e16de6f",
   "metadata": {},
   "outputs": [],
   "source": [
    "from pyspark.sql import SparkSession\n",
    "import pyspark.sql.functions as F\n",
    "from pyspark.sql import Window\n",
    "\n",
    "from IPython.core.interactiveshell import InteractiveShell\n",
    "InteractiveShell.ast_node_interactivity = \"all\"\n",
    "\n",
    "import warnings\n",
    "warnings.filterwarnings('ignore')\n",
    "warnings.simplefilter('ignore')"
   ]
  },
  {
   "cell_type": "code",
   "execution_count": 3,
   "id": "efbcbf2d",
   "metadata": {},
   "outputs": [],
   "source": [
    "spark = (\n",
    "    SparkSession\n",
    "    .builder\n",
    "    .config(\"spark.driver.memory\", \"8g\")\n",
    "    .config(\"spark.driver.cores\", \"4\")\n",
    "    .getOrCreate()\n",
    ")\n",
    "\n",
    "sc = spark.sparkContext\n",
    "sc.setLogLevel(\"ERROR\")"
   ]
  },
  {
   "cell_type": "markdown",
   "id": "99884a03",
   "metadata": {},
   "source": [
    "# Setting Up Transactions Data"
   ]
  },
  {
   "cell_type": "code",
   "execution_count": 4,
   "id": "9ca8eeca",
   "metadata": {},
   "outputs": [],
   "source": [
    "customers_file = \"../../data/data_skew/raw_customers.csv\"\n",
    "txns_file = \"../../data/data_skew/raw_transactions.csv\""
   ]
  },
  {
   "cell_type": "code",
   "execution_count": 6,
   "id": "8483744f",
   "metadata": {},
   "outputs": [],
   "source": [
    "df_raw_txns = spark.read.csv(txns_file, header=True)"
   ]
  },
  {
   "cell_type": "code",
   "execution_count": 7,
   "id": "d8bf2447",
   "metadata": {},
   "outputs": [
    {
     "name": "stdout",
     "output_type": "stream",
     "text": [
      "root\n",
      " |-- CUST_ID: string (nullable = true)\n",
      " |-- START_DATE: string (nullable = true)\n",
      " |-- END_DATE: string (nullable = true)\n",
      " |-- TRANS_ID: string (nullable = true)\n",
      " |-- DATE: string (nullable = true)\n",
      " |-- YEAR: string (nullable = true)\n",
      " |-- MONTH: string (nullable = true)\n",
      " |-- DAY: string (nullable = true)\n",
      " |-- EXP_TYPE: string (nullable = true)\n",
      " |-- AMOUNT: string (nullable = true)\n",
      "\n",
      "+----------+----------+--------+---------------+----------+----+-----+---+------------+------+\n",
      "|CUST_ID   |START_DATE|END_DATE|TRANS_ID       |DATE      |YEAR|MONTH|DAY|EXP_TYPE    |AMOUNT|\n",
      "+----------+----------+--------+---------------+----------+----+-----+---+------------+------+\n",
      "|CI6XLYUMQK|2015-05-01|null    |T8I9ZB5A6X90UG8|2015-09-11|2015|9    |11 |Motor/Travel|20.27 |\n",
      "|CI6XLYUMQK|2015-05-01|null    |TZ4JSLS7SC7FO9H|2017-02-08|2017|2    |8  |Motor/Travel|12.85 |\n",
      "|CI6XLYUMQK|2015-05-01|null    |TTUKRDDJ6B6F42H|2015-08-01|2015|8    |1  |Housing     |383.8 |\n",
      "+----------+----------+--------+---------------+----------+----+-----+---+------------+------+\n",
      "only showing top 3 rows\n",
      "\n"
     ]
    }
   ],
   "source": [
    "df_raw_txns.printSchema()\n",
    "df_raw_txns.show(3, False)"
   ]
  },
  {
   "cell_type": "code",
   "execution_count": 8,
   "id": "e29545d6",
   "metadata": {},
   "outputs": [],
   "source": [
    "df_txns = (\n",
    "    df_raw_txns.withColumnRenamed(\"CUST_ID\", \"cust_id\")\n",
    "    .withColumnRenamed(\"START_DATE\", \"start_date\")\n",
    "    .withColumnRenamed(\"END_DATE\", \"end_date\")\n",
    "    .withColumnRenamed(\"TRANS_ID\", \"txn_id\")\n",
    "    .withColumnRenamed(\"DATE\", \"date\")\n",
    "    .withColumnRenamed(\"YEAR\", \"year\")\n",
    "    .withColumnRenamed(\"MONTH\", \"month\")\n",
    "    .withColumnRenamed(\"DAY\", \"day\")\n",
    "    .withColumnRenamed(\"EXP_TYPE\", \"expense_type\")\n",
    "    .withColumnRenamed(\"AMOUNT\", \"amt\")\n",
    ")"
   ]
  },
  {
   "cell_type": "code",
   "execution_count": 9,
   "id": "615394d5",
   "metadata": {},
   "outputs": [
    {
     "name": "stdout",
     "output_type": "stream",
     "text": [
      "root\n",
      " |-- cust_id: string (nullable = true)\n",
      " |-- start_date: string (nullable = true)\n",
      " |-- end_date: string (nullable = true)\n",
      " |-- txn_id: string (nullable = true)\n",
      " |-- date: string (nullable = true)\n",
      " |-- year: string (nullable = true)\n",
      " |-- month: string (nullable = true)\n",
      " |-- day: string (nullable = true)\n",
      " |-- expense_type: string (nullable = true)\n",
      " |-- amt: string (nullable = true)\n",
      "\n",
      "+----------+----------+--------+---------------+----------+----+-----+---+------------+-----+\n",
      "|cust_id   |start_date|end_date|txn_id         |date      |year|month|day|expense_type|amt  |\n",
      "+----------+----------+--------+---------------+----------+----+-----+---+------------+-----+\n",
      "|CI6XLYUMQK|2015-05-01|null    |T8I9ZB5A6X90UG8|2015-09-11|2015|9    |11 |Motor/Travel|20.27|\n",
      "|CI6XLYUMQK|2015-05-01|null    |TZ4JSLS7SC7FO9H|2017-02-08|2017|2    |8  |Motor/Travel|12.85|\n",
      "|CI6XLYUMQK|2015-05-01|null    |TTUKRDDJ6B6F42H|2015-08-01|2015|8    |1  |Housing     |383.8|\n",
      "+----------+----------+--------+---------------+----------+----+-----+---+------------+-----+\n",
      "only showing top 3 rows\n",
      "\n"
     ]
    }
   ],
   "source": [
    "df_txns.printSchema()\n",
    "df_txns.show(3, False)"
   ]
  },
  {
   "cell_type": "markdown",
   "id": "4463ab74",
   "metadata": {},
   "source": [
    "# Setting Up Customer Data"
   ]
  },
  {
   "cell_type": "code",
   "execution_count": 10,
   "id": "7a8b5380",
   "metadata": {},
   "outputs": [],
   "source": [
    "df_customer_det = spark.read.csv(customers_file, header=True)"
   ]
  },
  {
   "cell_type": "code",
   "execution_count": 11,
   "id": "5ab02c36",
   "metadata": {},
   "outputs": [
    {
     "name": "stdout",
     "output_type": "stream",
     "text": [
      "root\n",
      " |-- name: string (nullable = true)\n",
      " |-- age: string (nullable = true)\n",
      " |-- gender: string (nullable = true)\n",
      " |-- birthday: string (nullable = true)\n",
      " |-- zip: string (nullable = true)\n",
      "\n",
      "+--------------+---+------+---------+-----+\n",
      "|name          |age|gender|birthday |zip  |\n",
      "+--------------+---+------+---------+-----+\n",
      "|Carolyn Mathis|63 |Male  |3/7/1975 |49241|\n",
      "|Anthony Lamb  |30 |Female|6/25/1987|37320|\n",
      "|Eliza Bryan   |20 |Male  |9/13/1985|12568|\n",
      "+--------------+---+------+---------+-----+\n",
      "only showing top 3 rows\n",
      "\n"
     ]
    }
   ],
   "source": [
    "df_customer_det.printSchema()\n",
    "df_customer_det.show(3, False)"
   ]
  },
  {
   "cell_type": "code",
   "execution_count": 12,
   "id": "a494f51f",
   "metadata": {},
   "outputs": [],
   "source": [
    "df_top20k_customers = (\n",
    "    df_txns\n",
    "    .groupBy(\"cust_id\")\n",
    "    .agg(F.countDistinct(\"txn_id\").alias(\"distinct_txns\"))\n",
    "    .orderBy(F.desc(\"distinct_txns\"))\n",
    "    .limit(20000)\n",
    "    .withColumn(\"row_id\", F.row_number().over(Window.orderBy(\"cust_id\")))\n",
    ")"
   ]
  },
  {
   "cell_type": "code",
   "execution_count": 13,
   "id": "56c93af8",
   "metadata": {},
   "outputs": [],
   "source": [
    "df_customer_det = df_customer_det.withColumn(\"row_id\", F.row_number().over(Window.orderBy(\"name\")))\n",
    "df_customer_identity = df_top20k_customers.join(df_customer_det, \"row_id\").drop(\"row_id\")"
   ]
  },
  {
   "cell_type": "code",
   "execution_count": 14,
   "id": "256a0784",
   "metadata": {},
   "outputs": [
    {
     "name": "stdout",
     "output_type": "stream",
     "text": [
      "root\n",
      " |-- cust_id: string (nullable = true)\n",
      " |-- distinct_txns: long (nullable = false)\n",
      " |-- name: string (nullable = true)\n",
      " |-- age: string (nullable = true)\n",
      " |-- gender: string (nullable = true)\n",
      " |-- birthday: string (nullable = true)\n",
      " |-- zip: string (nullable = true)\n",
      "\n"
     ]
    },
    {
     "name": "stderr",
     "output_type": "stream",
     "text": [
      "                                                                                \r"
     ]
    },
    {
     "name": "stdout",
     "output_type": "stream",
     "text": [
      "+----------+-------------+-------------+---+------+----------+-----+\n",
      "|cust_id   |distinct_txns|name         |age|gender|birthday  |zip  |\n",
      "+----------+-------------+-------------+---+------+----------+-----+\n",
      "|C000BK8N2S|6949         |Aaron Abbott |34 |Female|7/13/1991 |97823|\n",
      "|C005K7U9RE|6540         |Aaron Austin |37 |Female|12/16/2004|30332|\n",
      "|C006CT8BVO|6356         |Aaron Barnes |29 |Female|3/11/1977 |23451|\n",
      "|C007YEYTX9|7445         |Aaron Barrett|31 |Male  |7/9/1998  |46613|\n",
      "|C00B971T1J|7532         |Aaron Becker |54 |Male  |11/24/1979|40284|\n",
      "+----------+-------------+-------------+---+------+----------+-----+\n",
      "only showing top 5 rows\n",
      "\n"
     ]
    },
    {
     "name": "stderr",
     "output_type": "stream",
     "text": [
      "                                                                                \r"
     ]
    },
    {
     "data": {
      "text/plain": [
       "20000"
      ]
     },
     "execution_count": 14,
     "metadata": {},
     "output_type": "execute_result"
    },
    {
     "name": "stderr",
     "output_type": "stream",
     "text": [
      "                                                                                \r"
     ]
    },
    {
     "data": {
      "text/plain": [
       "20000"
      ]
     },
     "execution_count": 14,
     "metadata": {},
     "output_type": "execute_result"
    }
   ],
   "source": [
    "df_customer_identity.printSchema()\n",
    "df_customer_identity.show(5, False)\n",
    "df_customer_identity.select(\"cust_id\").distinct().count()\n",
    "df_customer_identity.count()"
   ]
  },
  {
   "cell_type": "markdown",
   "id": "82a81258",
   "metadata": {},
   "source": [
    "# Write Customer Data"
   ]
  },
  {
   "cell_type": "code",
   "execution_count": 15,
   "id": "b1863726",
   "metadata": {},
   "outputs": [
    {
     "name": "stderr",
     "output_type": "stream",
     "text": [
      "                                                                                \r"
     ]
    }
   ],
   "source": [
    "(\n",
    "    df_customer_identity\n",
    "    .write\n",
    "    .mode(\"overwrite\")\n",
    "    .parquet(\"../../data/data_skew/customers.parquet\")\n",
    ")"
   ]
  },
  {
   "cell_type": "markdown",
   "id": "2ad37f19",
   "metadata": {},
   "source": [
    "# Write Skewed Transaction Data"
   ]
  },
  {
   "cell_type": "code",
   "execution_count": 16,
   "id": "579febe4",
   "metadata": {},
   "outputs": [
    {
     "name": "stderr",
     "output_type": "stream",
     "text": [
      "                                                                                \r"
     ]
    },
    {
     "data": {
      "text/plain": [
       "5533"
      ]
     },
     "execution_count": 16,
     "metadata": {},
     "output_type": "execute_result"
    }
   ],
   "source": [
    "df_top20k_customers.filter(F.col(\"distinct_txns\") >= 7000).distinct().count()"
   ]
  },
  {
   "cell_type": "code",
   "execution_count": 17,
   "id": "badb8784",
   "metadata": {},
   "outputs": [],
   "source": [
    "df_transactions = df_txns.join(\n",
    "    df_top20k_customers,\n",
    "    on=\"cust_id\",\n",
    "    how=\"inner\"\n",
    ").withColumn(\n",
    "    \"cust_id\", \n",
    "    F.when(\n",
    "        F.col(\"distinct_txns\") >= 7000, F.lit(\"C0YDPQWPBJ\")\n",
    "    ).otherwise(F.col(\"cust_id\"))\n",
    ")"
   ]
  },
  {
   "cell_type": "code",
   "execution_count": 18,
   "id": "a84a5cee",
   "metadata": {},
   "outputs": [
    {
     "name": "stderr",
     "output_type": "stream",
     "text": [
      "                                                                                \r"
     ]
    },
    {
     "name": "stdout",
     "output_type": "stream",
     "text": [
      "+----------+--------+\n",
      "|cust_id   |count   |\n",
      "+----------+--------+\n",
      "|C0YDPQWPBJ|43551962|\n",
      "|CXD6UZEGKS|6999    |\n",
      "|CP2GC38KPG|6999    |\n",
      "|CQZK7HS7HL|6999    |\n",
      "|C1MZ9FNHAN|6999    |\n",
      "+----------+--------+\n",
      "only showing top 5 rows\n",
      "\n"
     ]
    },
    {
     "data": {
      "text/plain": [
       "DataFrame[cust_id: string, start_date: string, end_date: string, txn_id: string, date: string, year: string, month: string, day: string, expense_type: string, amt: string, distinct_txns: bigint, row_id: int]"
      ]
     },
     "execution_count": 18,
     "metadata": {},
     "output_type": "execute_result"
    }
   ],
   "source": [
    "df_transactions.groupBy(\"cust_id\").count().orderBy(F.desc(\"count\")).show(5, False)\n",
    "df_transactions.cache()"
   ]
  },
  {
   "cell_type": "code",
   "execution_count": 19,
   "id": "6e10db99",
   "metadata": {},
   "outputs": [
    {
     "name": "stdout",
     "output_type": "stream",
     "text": [
      "root\n",
      " |-- cust_id: string (nullable = true)\n",
      " |-- start_date: string (nullable = true)\n",
      " |-- end_date: string (nullable = true)\n",
      " |-- txn_id: string (nullable = true)\n",
      " |-- date: string (nullable = true)\n",
      " |-- year: string (nullable = true)\n",
      " |-- month: string (nullable = true)\n",
      " |-- day: string (nullable = true)\n",
      " |-- expense_type: string (nullable = true)\n",
      " |-- amt: string (nullable = true)\n",
      " |-- distinct_txns: long (nullable = false)\n",
      " |-- row_id: integer (nullable = true)\n",
      "\n"
     ]
    }
   ],
   "source": [
    "df_transactions.printSchema()"
   ]
  },
  {
   "cell_type": "code",
   "execution_count": 20,
   "id": "7e957bb0",
   "metadata": {},
   "outputs": [
    {
     "name": "stderr",
     "output_type": "stream",
     "text": [
      "                                                                                \r"
     ]
    },
    {
     "data": {
      "text/plain": [
       "14468"
      ]
     },
     "execution_count": 20,
     "metadata": {},
     "output_type": "execute_result"
    },
    {
     "name": "stderr",
     "output_type": "stream",
     "text": [
      "                                                                                \r"
     ]
    },
    {
     "data": {
      "text/plain": [
       "127125002"
      ]
     },
     "execution_count": 20,
     "metadata": {},
     "output_type": "execute_result"
    },
    {
     "name": "stderr",
     "output_type": "stream",
     "text": [
      "\r",
      "[Stage 50:===========================>                          (86 + 13) / 167]\r",
      "\r",
      "                                                                                \r"
     ]
    },
    {
     "data": {
      "text/plain": [
       "127125002"
      ]
     },
     "execution_count": 20,
     "metadata": {},
     "output_type": "execute_result"
    }
   ],
   "source": [
    "df_transactions.select(\"cust_id\").distinct().count()\n",
    "df_transactions.select(\"txn_id\").distinct().count()\n",
    "df_transactions.count()"
   ]
  },
  {
   "cell_type": "code",
   "execution_count": 21,
   "id": "277d32cc",
   "metadata": {},
   "outputs": [
    {
     "name": "stderr",
     "output_type": "stream",
     "text": [
      "                                                                                \r"
     ]
    }
   ],
   "source": [
    "(\n",
    "    df_transactions\n",
    "    .drop(\"distinct_txns\", \"row_id\")\n",
    "    .write\n",
    "    .mode(\"overwrite\")\n",
    "    .parquet(\"../../data/data_skew/transactions.parquet\")\n",
    ")"
   ]
  },
  {
   "cell_type": "code",
   "execution_count": 22,
   "id": "d378602e",
   "metadata": {},
   "outputs": [],
   "source": [
    "df_transactions_test = spark.read.parquet(\"../../data/data_skew/transactions.parquet\")"
   ]
  },
  {
   "cell_type": "code",
   "execution_count": 23,
   "id": "4ff6eae8",
   "metadata": {},
   "outputs": [
    {
     "name": "stderr",
     "output_type": "stream",
     "text": [
      "[Stage 56:============================>                        (108 + 12) / 200]\r"
     ]
    },
    {
     "name": "stdout",
     "output_type": "stream",
     "text": [
      "+----------+--------+\n",
      "|cust_id   |ct      |\n",
      "+----------+--------+\n",
      "|C0YDPQWPBJ|43551962|\n",
      "|CXD6UZEGKS|6999    |\n",
      "|CBHTP5LBPL|6999    |\n",
      "|CGZ47PFMP4|6999    |\n",
      "|CQZK7HS7HL|6999    |\n",
      "|CP2GC38KPG|6999    |\n",
      "|C1MZ9FNHAN|6999    |\n",
      "|C20YJKSHJO|6998    |\n",
      "|CMPRPWHMXL|6998    |\n",
      "|CDNM9WD0Y5|6998    |\n",
      "|CJ54IW55MC|6998    |\n",
      "|C2TVQYBG6G|6998    |\n",
      "|C5A5O3NG3I|6998    |\n",
      "|CN3CK5U6KT|6997    |\n",
      "|CLCAMLZ379|6997    |\n",
      "|CP0GJFQTVZ|6997    |\n",
      "|CRGDYXMCR9|6997    |\n",
      "|CGYD0EQ59P|6997    |\n",
      "|CJSSKSUHZT|6997    |\n",
      "|CVXA38F9W9|6996    |\n",
      "+----------+--------+\n",
      "only showing top 20 rows\n",
      "\n"
     ]
    },
    {
     "name": "stderr",
     "output_type": "stream",
     "text": [
      "\r",
      "[Stage 56:======================================================(200 + 0) / 200]\r",
      "\r",
      "                                                                                \r"
     ]
    }
   ],
   "source": [
    "(\n",
    "    df_transactions_test\n",
    "    .groupBy(\"cust_id\")\n",
    "    .agg(F.countDistinct(\"txn_id\").alias(\"ct\"))\n",
    "    .orderBy(F.desc(\"ct\"))\n",
    "    .show(20, False)\n",
    ")"
   ]
  },
  {
   "cell_type": "code",
   "execution_count": 24,
   "id": "faeac8ee",
   "metadata": {},
   "outputs": [],
   "source": [
    "spark.stop()"
   ]
  },
  {
   "cell_type": "code",
   "execution_count": null,
   "id": "0a6b09e0",
   "metadata": {},
   "outputs": [],
   "source": []
  }
 ],
 "metadata": {
  "kernelspec": {
   "display_name": "Python 3 (ipykernel)",
   "language": "python",
   "name": "python3"
  },
  "language_info": {
   "codemirror_mode": {
    "name": "ipython",
    "version": 3
   },
   "file_extension": ".py",
   "mimetype": "text/x-python",
   "name": "python",
   "nbconvert_exporter": "python",
   "pygments_lexer": "ipython3",
   "version": "3.8.16"
  }
 },
 "nbformat": 4,
 "nbformat_minor": 5
}
